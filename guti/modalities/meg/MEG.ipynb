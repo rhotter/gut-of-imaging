{
 "cells": [
  {
   "cell_type": "code",
   "execution_count": 3,
   "id": "2435dcca-e00f-421b-a5bc-e16e11f24291",
   "metadata": {},
   "outputs": [],
   "source": [
    "%load_ext autoreload\n",
    "%autoreload 2"
   ]
  },
  {
   "cell_type": "code",
   "execution_count": 4,
   "id": "cb0f32b1",
   "metadata": {},
   "outputs": [],
   "source": [
    "opm_ratio = 1.5/10\n",
    "squid_ratio = 3/10"
   ]
  },
  {
   "cell_type": "code",
   "execution_count": 5,
   "id": "3a45fccd",
   "metadata": {},
   "outputs": [],
   "source": [
    "import numpy as np\n",
    "\n",
    "def sarvas_formula(r, r0):\n",
    "    \"\"\"\n",
    "    Compute the lead field matrix using Sarvas's formula for MEG forward calculation.\n",
    "    Source: https://iopscience.iop.org/article/10.1088/0031-9155/32/1/004/pdf\n",
    "    \n",
    "    Parameters\n",
    "    ----------\n",
    "    r : ndarray, shape (3,)\n",
    "        Position vector of the measurement point (sensor location)\n",
    "    r0 : ndarray, shape (3,)\n",
    "        Position vector of the current dipole\n",
    "    \n",
    "    Returns\n",
    "    -------\n",
    "    M : ndarray, shape (3, 3)\n",
    "        Lead field matrix that transforms dipole moment Q into magnetic field B\n",
    "        such that B = M @ Q\n",
    "    \"\"\"\n",
    "    # Displacement vector from dipole to sensor\n",
    "    R = r - r0\n",
    "    R_norm = np.linalg.norm(R)\n",
    "    \n",
    "    # Compute F and its gradient\n",
    "    F = R_norm * (R_norm * R_norm + np.dot(R, r0))\n",
    "    gradF = (3 * R * np.dot(R, r0) + R_norm * R_norm * R + R_norm * R_norm * r0) / R_norm\n",
    "    \n",
    "    # Create the cross product matrix for R\n",
    "    R_cross = np.array([\n",
    "        [0, -R[2], R[1]],\n",
    "        [R[2], 0, -R[0]], \n",
    "        [-R[1], R[0], 0]\n",
    "    ])\n",
    "    \n",
    "    # Compute lead field matrix\n",
    "    M = (10**-7 / F) * (R_norm * R_norm * R_cross - np.outer(gradF, np.cross(r0, R)))\n",
    "    \n",
    "    return M\n",
    "\n"
   ]
  },
  {
   "cell_type": "code",
   "execution_count": 6,
   "id": "d8fec118",
   "metadata": {},
   "outputs": [
    {
     "name": "stdout",
     "output_type": "stream",
     "text": [
      "Generated 400 points on sphere surface\n"
     ]
    }
   ],
   "source": [
    "def generate_sphere_grid(n=20, angle_range=50):\n",
    "    \"\"\"\n",
    "    Generate points on a unit sphere surface in an n x n grid pattern.\n",
    "    The grid spans angle_range degrees in both theta and phi directions.\n",
    "    \n",
    "    Parameters\n",
    "    ----------\n",
    "    n : int\n",
    "        Number of points in each dimension of the grid\n",
    "    angle_range : float\n",
    "        Angular range in degrees for both dimensions\n",
    "    \n",
    "    Returns\n",
    "    -------\n",
    "    points : ndarray, shape (n*n, 3)\n",
    "        Array of 3D coordinates of points on sphere surface\n",
    "    \"\"\"\n",
    "    # Convert angle range to radians\n",
    "    angle_rad = np.radians(angle_range)\n",
    "    \n",
    "    # Center the grid around the north pole (theta=0)\n",
    "    theta_start = -angle_rad/2\n",
    "    theta_end = angle_rad/2\n",
    "    \n",
    "    # Center phi around 0\n",
    "    phi_start = -angle_rad/2\n",
    "    phi_end = angle_rad/2\n",
    "    \n",
    "    # Create the grid in spherical coordinates\n",
    "    theta = np.linspace(theta_start, theta_end, n)\n",
    "    phi = np.linspace(phi_start, phi_end, n)\n",
    "    \n",
    "    # Create meshgrid\n",
    "    THETA, PHI = np.meshgrid(theta, phi)\n",
    "    \n",
    "    # Convert to Cartesian coordinates\n",
    "    # x = sin(theta)cos(phi)\n",
    "    # y = sin(theta)sin(phi)\n",
    "    # z = cos(theta)\n",
    "    X = np.sin(THETA) * np.cos(PHI)\n",
    "    Y = np.sin(THETA) * np.sin(PHI)\n",
    "    Z = np.cos(THETA)\n",
    "    \n",
    "    # Stack coordinates into (n*n, 3) array\n",
    "    points = np.column_stack((X.flatten(), Y.flatten(), Z.flatten()))\n",
    "    \n",
    "    return points\n",
    "\n",
    "# Example usage:\n",
    "grid_points = generate_sphere_grid(n=20, angle_range=50)\n",
    "print(f\"Generated {len(grid_points)} points on sphere surface\")"
   ]
  },
  {
   "cell_type": "code",
   "execution_count": 7,
   "id": "1322ee34",
   "metadata": {},
   "outputs": [
    {
     "name": "stdout",
     "output_type": "stream",
     "text": [
      "Generated 4000 random points inside unit sphere\n",
      "Generated 4000 random points inside unit sphere\n"
     ]
    }
   ],
   "source": [
    "# Generate random points inside a unit sphere\n",
    "n_points = 4000\n",
    "\n",
    "# Generate random points in a cube and reject those outside unit sphere\n",
    "points_1 = []\n",
    "points_2 = []\n",
    "while len(points_1) < n_points or len(points_2) < n_points:\n",
    "    # Generate random coordinates between -1 and 1\n",
    "    x = np.random.uniform(-1, 1)\n",
    "    y = np.random.uniform(-1, 1) \n",
    "    z = np.random.uniform(-1, 1)\n",
    "    \n",
    "    # Check if point is inside unit sphere\n",
    "    if x*x + y*y + z*z <= 1 - opm_ratio and len(points_1) < n_points:\n",
    "        points_1.append([x, y, z])\n",
    "    if x*x + y*y + z*z <= 1 - squid_ratio and len(points_2) < n_points:\n",
    "        points_2.append([x, y, z])\n",
    "\n",
    "# Convert to numpy array\n",
    "points_1 = np.array(points_1)\n",
    "points_2 = np.array(points_2)\n",
    "\n",
    "print(f\"Generated {len(points_1)} random points inside unit sphere\")\n",
    "print(f\"Generated {len(points_2)} random points inside unit sphere\")\n"
   ]
  },
  {
   "cell_type": "code",
   "execution_count": 8,
   "id": "58022a34",
   "metadata": {},
   "outputs": [
    {
     "name": "stdout",
     "output_type": "stream",
     "text": [
      "The forward mapping matrices have shapes: (1200, 12000) and (1200, 12000)\n"
     ]
    }
   ],
   "source": [
    "import numpy as np\n",
    "\n",
    "# Convert points_1 and points_2 lists to numpy arrays\n",
    "points_1 = np.array(points_1)\n",
    "points_2 = np.array(points_2)\n",
    "\n",
    "# Assume grid_points (sensor positions, shape: [n_sensors, 3]) and points (dipole positions, shape: [n_dipoles, 3]) are defined.\n",
    "nsensors = grid_points.shape[0]   # Expected to be 400 sensors\n",
    "ndipoles_1 = points_1.shape[0]      # Number of dipoles in first sphere\n",
    "ndipoles_2 = points_2.shape[0]      # Number of dipoles in second sphere\n",
    "\n",
    "# For each sensor-dipole pair, compute the vector difference (r_vec = sensor_position - dipole_position)\n",
    "# This will have shape (nsensors, ndipoles, 3)\n",
    "diff_1 = grid_points[:, None, :] - points_1[None, :, :]\n",
    "diff_2 = grid_points[:, None, :] - points_2[None, :, :]\n",
    "\n",
    "# Compute the distances for each sensor-dipole pair\n",
    "r_1 = np.linalg.norm(diff_1, axis=2)   # Shape: (nsensors, ndipoles) for first sphere\n",
    "r_safe_1 = np.maximum(r_1, 1e-12)        # Avoid division by zero\n",
    "r3_1 = r_safe_1 ** 3\n",
    "\n",
    "r_2 = np.linalg.norm(diff_2, axis=2)   # Shape: (nsensors, ndipoles) for second sphere\n",
    "r_safe_2 = np.maximum(r_2, 1e-12)\n",
    "r3_2 = r_safe_2 ** 3\n",
    "\n",
    "# Compute the unit vector for each sensor-dipole pair\n",
    "u_1 = diff_1 / r_safe_1[..., None]      # Shape: (nsensors, ndipoles, 3)\n",
    "u_2 = diff_2 / r_safe_2[..., None]      # Shape: (nsensors, ndipoles, 3)\n",
    "\n",
    "# For each pair, compute the outer product u * u^T. This yields a 3x3 matrix per pair.\n",
    "# The resulting array has shape (nsensors, ndipoles, 3, 3)\n",
    "outer_u_1 = np.einsum('ijk,ijl->ijkl', u_1, u_1)\n",
    "outer_u_2 = np.einsum('ijk,ijl->ijkl', u_2, u_2)\n",
    "\n",
    "# Now, for a dipole in free space, the contribution to the magnetic field is given by:\n",
    "#   (3*(u u^T) - I) / |r|^3 \n",
    "# where I is the 3x3 identity matrix.\n",
    "# Compute these 3x3 blocks for all sensor-dipole pairs.\n",
    "blocks_1 = (3 * outer_u_1 - np.eye(3)[None, None, :, :]) / r3_1[..., None, None]\n",
    "blocks_2 = (3 * outer_u_2 - np.eye(3)[None, None, :, :]) / r3_2[..., None, None]\n",
    "\n",
    "# Finally, reshape the blocks into the full forward matrix A, which maps:\n",
    "#   [dipole moment components (3*ndipoles,)] --> [sensor magnetic field components (3*nsensors,)]\n",
    "# The desired shape is (3*nsensors, 3*ndipoles)\n",
    "A_1 = blocks_1.transpose(0, 2, 1, 3).reshape(nsensors * 3, ndipoles_1 * 3)\n",
    "A_2 = blocks_2.transpose(0, 2, 1, 3).reshape(nsensors * 3, ndipoles_2 * 3)\n",
    "\n",
    "print(\"The forward mapping matrices have shapes:\", A_1.shape, \"and\", A_2.shape)\n"
   ]
  },
  {
   "cell_type": "code",
   "execution_count": 9,
   "id": "a251ab13",
   "metadata": {},
   "outputs": [
    {
     "data": {
      "image/png": "[encoded data removed]",
      "text/plain": [
       "<Figure size 800x400 with 1 Axes>"
      ]
     },
     "metadata": {},
     "output_type": "display_data"
    }
   ],
   "source": [
    "%matplotlib inline\n",
    "from matplotlib import pyplot as plt\n",
    "\n",
    "# Compute the singular value decomposition (SVD) of both forward mapping matrices\n",
    "U1, s1, Vh1 = np.linalg.svd(A_1, full_matrices=False)\n",
    "U2, s2, Vh2 = np.linalg.svd(A_2, full_matrices=False)\n",
    "\n",
    "# Plot the singular value spectra on a log scale\n",
    "plt.figure(figsize=(8, 4))\n",
    "plt.semilogy(s1, 'o-', markersize=4, label='A_1')\n",
    "plt.semilogy(s2, 'o-', markersize=4, label='A_2')\n",
    "plt.xlabel('Singular Value Index')\n",
    "plt.ylabel('Singular Value (log scale)')\n",
    "plt.title('Singular Value Spectra of Forward Mapping Matrices')\n",
    "plt.grid(True)\n",
    "plt.legend()\n",
    "plt.show()\n"
   ]
  },
  {
   "cell_type": "code",
   "execution_count": 10,
   "id": "805e0258",
   "metadata": {},
   "outputs": [
    {
     "name": "stdout",
     "output_type": "stream",
     "text": [
      "Saved singular value spectrum to /Users/ennucore/dev/gut-of-imaging/results/meg_opm_svd_spectrum.npz\n",
      "Saved singular value spectrum to /Users/ennucore/dev/gut-of-imaging/results/meg_squid_svd_spectrum.npz\n"
     ]
    }
   ],
   "source": [
    "import sys\n",
    "\n",
    "sys.path.append('../..')\n",
    "from data_utils import save_svd\n",
    "\n",
    "save_svd(s1, 'meg_opm')\n",
    "save_svd(s2, 'meg_squid')\n"
   ]
  },
  {
   "cell_type": "code",
   "execution_count": null,
   "id": "12643108",
   "metadata": {},
   "outputs": [],
   "source": []
  },
  {
   "cell_type": "code",
   "execution_count": null,
   "id": "2b7c091f",
   "metadata": {},
   "outputs": [],
   "source": []
  }
 ],
 "metadata": {
  "kernelspec": {
   "display_name": "Python 3",
   "language": "python",
   "name": "python3"
  },
  "language_info": {
   "codemirror_mode": {
    "name": "ipython",
    "version": 3
   },
   "file_extension": ".py",
   "mimetype": "text/x-python",
   "name": "python",
   "nbconvert_exporter": "python",
   "pygments_lexer": "ipython3",
   "version": "3.12.9"
  }
 },
 "nbformat": 4,
 "nbformat_minor": 5
}
